{
  "nbformat": 4,
  "nbformat_minor": 0,
  "metadata": {
    "colab": {
      "provenance": []
    },
    "kernelspec": {
      "name": "python3",
      "display_name": "Python 3"
    }
  },
  "cells": [
    {
      "cell_type": "markdown",
      "metadata": {
        "id": "KPJn34vRacrq"
      },
      "source": [
        " ## Importing the dependencies\n"
      ]
    },
    {
      "cell_type": "code",
      "metadata": {
        "id": "hPJPgIEbaQRC"
      },
      "source": [
        "import numpy as np\n",
        "import pandas as pd\n",
        "import matplotlib.pyplot as plt\n",
        "%matplotlib inline\n",
        "import seaborn as sns\n",
        "from sklearn import preprocessing\n",
        "from sklearn import model_selection,neighbors\n",
        "from sklearn.neighbors import KNeighborsClassifier\n",
        "from sklearn.linear_model import LogisticRegression\n",
        "from sklearn.svm import SVC\n",
        "from sklearn.tree import DecisionTreeClassifier\n",
        "from sklearn.ensemble import RandomForestClassifier\n",
        "from sklearn.model_selection import train_test_split\n",
        "from sklearn.model_selection import cross_val_score,cross_val_predict\n",
        "from sklearn.metrics import accuracy_score,recall_score,roc_auc_score,confusion_matrix"
      ],
      "execution_count": null,
      "outputs": []
    },
    {
      "cell_type": "markdown",
      "metadata": {
        "id": "lPBEpcLtaoql"
      },
      "source": [
        "## Fetching our data"
      ]
    },
    {
      "cell_type": "code",
      "metadata": {
        "id": "SUkdgFyWafo_"
      },
      "source": [
        "data = pd.read_csv('/content/kerala_rainfall.csv')"
      ],
      "execution_count": null,
      "outputs": []
    },
    {
      "cell_type": "code",
      "metadata": {
        "id": "-tgHflKqa-8J",
        "outputId": "3153cd6b-9b09-4afe-9aa3-2e768f2d1e42",
        "colab": {
          "base_uri": "https://localhost:8080/"
        }
      },
      "source": [
        "print(data)"
      ],
      "execution_count": null,
      "outputs": [
        {
          "output_type": "stream",
          "name": "stdout",
          "text": [
            "    SUBDIVISION  YEAR   JAN   FEB   MAR    APR    MAY     JUN     JUL     AUG  \\\n",
            "0        KERALA  1901  28.7  44.7  51.6  160.0  174.7   824.6   743.0   357.5   \n",
            "1        KERALA  1902   6.7   2.6  57.3   83.9  134.5   390.9  1205.0   315.8   \n",
            "2        KERALA  1903   3.2  18.6   3.1   83.6  249.7   558.6  1022.5   420.2   \n",
            "3        KERALA  1904  23.7   3.0  32.2   71.5  235.7  1098.2   725.5   351.8   \n",
            "4        KERALA  1905   1.2  22.3   9.4  105.9  263.3   850.2   520.5   293.6   \n",
            "..          ...   ...   ...   ...   ...    ...    ...     ...     ...     ...   \n",
            "113      KERALA  2014   4.6  10.3  17.9   95.7  251.0   454.4   677.8   733.9   \n",
            "114      KERALA  2015   3.1   5.8  50.1  214.1  201.8   563.6   406.0   252.2   \n",
            "115      KERALA  2016   2.4   3.8  35.9  143.0  186.4   522.2   412.3   325.5   \n",
            "116     KERALA   2017   1.9   6.8   8.9   43.6  173.5   498.5   319.6   531.8   \n",
            "117      KERALA  2018  29.1  52.1  48.6  116.4  183.8   625.4  1048.5  1398.9   \n",
            "\n",
            "       SEP    OCT    NOV    DEC   ANNUAL RAINFALL FLOODS  \n",
            "0    197.7  266.9  350.8   48.4            3248.6    YES  \n",
            "1    491.6  358.4  158.3  121.5            3326.6    YES  \n",
            "2    341.8  354.1  157.0   59.0            3271.2    YES  \n",
            "3    222.7  328.1   33.9    3.3            3129.7    YES  \n",
            "4    217.2  383.5   74.4    0.2            2741.6     NO  \n",
            "..     ...    ...    ...    ...               ...    ...  \n",
            "113  298.8  355.5   99.5   47.2            3046.4    YES  \n",
            "114  292.9  308.1  223.6   79.4            2600.6     NO  \n",
            "115  173.2  225.9  125.4   23.6            2176.6     NO  \n",
            "116  209.5  192.4   92.5   38.1            2117.1     NO  \n",
            "117  423.6  356.1  125.4   65.1            4473.0    YES  \n",
            "\n",
            "[118 rows x 16 columns]\n"
          ]
        }
      ]
    },
    {
      "cell_type": "code",
      "metadata": {
        "id": "HCvyD84_bLnx",
        "colab": {
          "base_uri": "https://localhost:8080/"
        },
        "outputId": "fbdbb47b-b9ec-45b5-e66d-a4fc8e0e2e19"
      },
      "source": [
        "data['FLOODS'].replace(['YES','NO'],[1,0],inplace=True)"
      ],
      "execution_count": null,
      "outputs": [
        {
          "output_type": "stream",
          "name": "stderr",
          "text": [
            "<ipython-input-170-dd8179764592>:1: FutureWarning: A value is trying to be set on a copy of a DataFrame or Series through chained assignment using an inplace method.\n",
            "The behavior will change in pandas 3.0. This inplace method will never work because the intermediate object on which we are setting values always behaves as a copy.\n",
            "\n",
            "For example, when doing 'df[col].method(value, inplace=True)', try using 'df.method({col: value}, inplace=True)' or df[col] = df[col].method(value) instead, to perform the operation inplace on the original object.\n",
            "\n",
            "\n",
            "  data['FLOODS'].replace(['YES','NO'],[1,0],inplace=True)\n",
            "<ipython-input-170-dd8179764592>:1: FutureWarning: Downcasting behavior in `replace` is deprecated and will be removed in a future version. To retain the old behavior, explicitly call `result.infer_objects(copy=False)`. To opt-in to the future behavior, set `pd.set_option('future.no_silent_downcasting', True)`\n",
            "  data['FLOODS'].replace(['YES','NO'],[1,0],inplace=True)\n"
          ]
        }
      ]
    },
    {
      "cell_type": "code",
      "metadata": {
        "id": "QYMe0KBXbuP9",
        "outputId": "89dd5452-baba-4e9c-89ea-1868b93d0ae1",
        "colab": {
          "base_uri": "https://localhost:8080/"
        }
      },
      "source": [
        "print(data)"
      ],
      "execution_count": null,
      "outputs": [
        {
          "output_type": "stream",
          "name": "stdout",
          "text": [
            "    SUBDIVISION  YEAR   JAN   FEB   MAR    APR    MAY     JUN     JUL     AUG  \\\n",
            "0        KERALA  1901  28.7  44.7  51.6  160.0  174.7   824.6   743.0   357.5   \n",
            "1        KERALA  1902   6.7   2.6  57.3   83.9  134.5   390.9  1205.0   315.8   \n",
            "2        KERALA  1903   3.2  18.6   3.1   83.6  249.7   558.6  1022.5   420.2   \n",
            "3        KERALA  1904  23.7   3.0  32.2   71.5  235.7  1098.2   725.5   351.8   \n",
            "4        KERALA  1905   1.2  22.3   9.4  105.9  263.3   850.2   520.5   293.6   \n",
            "..          ...   ...   ...   ...   ...    ...    ...     ...     ...     ...   \n",
            "113      KERALA  2014   4.6  10.3  17.9   95.7  251.0   454.4   677.8   733.9   \n",
            "114      KERALA  2015   3.1   5.8  50.1  214.1  201.8   563.6   406.0   252.2   \n",
            "115      KERALA  2016   2.4   3.8  35.9  143.0  186.4   522.2   412.3   325.5   \n",
            "116     KERALA   2017   1.9   6.8   8.9   43.6  173.5   498.5   319.6   531.8   \n",
            "117      KERALA  2018  29.1  52.1  48.6  116.4  183.8   625.4  1048.5  1398.9   \n",
            "\n",
            "       SEP    OCT    NOV    DEC   ANNUAL RAINFALL  FLOODS  \n",
            "0    197.7  266.9  350.8   48.4            3248.6       1  \n",
            "1    491.6  358.4  158.3  121.5            3326.6       1  \n",
            "2    341.8  354.1  157.0   59.0            3271.2       1  \n",
            "3    222.7  328.1   33.9    3.3            3129.7       1  \n",
            "4    217.2  383.5   74.4    0.2            2741.6       0  \n",
            "..     ...    ...    ...    ...               ...     ...  \n",
            "113  298.8  355.5   99.5   47.2            3046.4       1  \n",
            "114  292.9  308.1  223.6   79.4            2600.6       0  \n",
            "115  173.2  225.9  125.4   23.6            2176.6       0  \n",
            "116  209.5  192.4   92.5   38.1            2117.1       0  \n",
            "117  423.6  356.1  125.4   65.1            4473.0       1  \n",
            "\n",
            "[118 rows x 16 columns]\n"
          ]
        }
      ]
    },
    {
      "cell_type": "markdown",
      "metadata": {
        "id": "TGV1FiiRcE38"
      },
      "source": [
        "Separating the rainfalls for every month and the outcome"
      ]
    },
    {
      "cell_type": "code",
      "metadata": {
        "id": "POLJrpV3bzWD",
        "outputId": "a72e99ce-cbba-496a-e66f-3bc9f2d0e524",
        "colab": {
          "base_uri": "https://localhost:8080/"
        }
      },
      "source": [
        "x=data.iloc[:,1:14]\n",
        "print(x)"
      ],
      "execution_count": null,
      "outputs": [
        {
          "output_type": "stream",
          "name": "stdout",
          "text": [
            "     YEAR   JAN   FEB   MAR    APR    MAY     JUN     JUL     AUG    SEP  \\\n",
            "0    1901  28.7  44.7  51.6  160.0  174.7   824.6   743.0   357.5  197.7   \n",
            "1    1902   6.7   2.6  57.3   83.9  134.5   390.9  1205.0   315.8  491.6   \n",
            "2    1903   3.2  18.6   3.1   83.6  249.7   558.6  1022.5   420.2  341.8   \n",
            "3    1904  23.7   3.0  32.2   71.5  235.7  1098.2   725.5   351.8  222.7   \n",
            "4    1905   1.2  22.3   9.4  105.9  263.3   850.2   520.5   293.6  217.2   \n",
            "..    ...   ...   ...   ...    ...    ...     ...     ...     ...    ...   \n",
            "113  2014   4.6  10.3  17.9   95.7  251.0   454.4   677.8   733.9  298.8   \n",
            "114  2015   3.1   5.8  50.1  214.1  201.8   563.6   406.0   252.2  292.9   \n",
            "115  2016   2.4   3.8  35.9  143.0  186.4   522.2   412.3   325.5  173.2   \n",
            "116  2017   1.9   6.8   8.9   43.6  173.5   498.5   319.6   531.8  209.5   \n",
            "117  2018  29.1  52.1  48.6  116.4  183.8   625.4  1048.5  1398.9  423.6   \n",
            "\n",
            "       OCT    NOV    DEC  \n",
            "0    266.9  350.8   48.4  \n",
            "1    358.4  158.3  121.5  \n",
            "2    354.1  157.0   59.0  \n",
            "3    328.1   33.9    3.3  \n",
            "4    383.5   74.4    0.2  \n",
            "..     ...    ...    ...  \n",
            "113  355.5   99.5   47.2  \n",
            "114  308.1  223.6   79.4  \n",
            "115  225.9  125.4   23.6  \n",
            "116  192.4   92.5   38.1  \n",
            "117  356.1  125.4   65.1  \n",
            "\n",
            "[118 rows x 13 columns]\n"
          ]
        }
      ]
    },
    {
      "cell_type": "code",
      "metadata": {
        "id": "_zPJ_WLBb6If",
        "outputId": "41c3f4f6-bfec-4cc8-e06c-90e7166a461d",
        "colab": {
          "base_uri": "https://localhost:8080/"
        }
      },
      "source": [
        "y=data.iloc[:,-1]\n",
        "print(y)"
      ],
      "execution_count": null,
      "outputs": [
        {
          "output_type": "stream",
          "name": "stdout",
          "text": [
            "0      1\n",
            "1      1\n",
            "2      1\n",
            "3      1\n",
            "4      0\n",
            "      ..\n",
            "113    1\n",
            "114    0\n",
            "115    0\n",
            "116    0\n",
            "117    1\n",
            "Name: FLOODS, Length: 118, dtype: int64\n"
          ]
        }
      ]
    },
    {
      "cell_type": "markdown",
      "metadata": {
        "id": "isHwx1jociBu"
      },
      "source": [
        "# Time to build our predictors"
      ]
    },
    {
      "cell_type": "code",
      "metadata": {
        "id": "ddSz7DOecQhs",
        "outputId": "097efe41-7a57-446e-f715-e549ce026c8d",
        "colab": {
          "base_uri": "https://localhost:8080/"
        }
      },
      "source": [
        "minmax=preprocessing.MinMaxScaler(feature_range=(0,1))\n",
        "minmax.fit(x).transform(x)"
      ],
      "execution_count": null,
      "outputs": [
        {
          "output_type": "execute_result",
          "data": {
            "text/plain": [
              "array([[0.        , 0.34371257, 0.56582278, ..., 0.39727673, 0.95570189,\n",
              "        0.2388724 ],\n",
              "       [0.00854701, 0.08023952, 0.03291139, ..., 0.5804966 , 0.37952709,\n",
              "        0.60039565],\n",
              "       [0.01709402, 0.03832335, 0.23544304, ..., 0.57188626, 0.37563604,\n",
              "        0.29129575],\n",
              "       ...,\n",
              "       [0.98290598, 0.02874251, 0.04810127, ..., 0.31517821, 0.28105358,\n",
              "        0.11622156],\n",
              "       [0.99145299, 0.02275449, 0.08607595, ..., 0.24809772, 0.18258007,\n",
              "        0.18793274],\n",
              "       [1.        , 0.34850299, 0.65949367, ..., 0.57589107, 0.28105358,\n",
              "        0.3214639 ]])"
            ]
          },
          "metadata": {},
          "execution_count": 174
        }
      ]
    },
    {
      "cell_type": "code",
      "metadata": {
        "id": "14lI2wTNc2yJ"
      },
      "source": [
        "x_train,x_test,y_train,y_test=train_test_split(x,y,test_size=0.2)"
      ],
      "execution_count": null,
      "outputs": []
    },
    {
      "cell_type": "markdown",
      "metadata": {
        "id": "2KdyKH2tdUGU"
      },
      "source": [
        "### Lets use K-Neareast Neighbours\n"
      ]
    },
    {
      "cell_type": "code",
      "metadata": {
        "id": "con8MwfNdZP4",
        "outputId": "c31e67fb-f322-4d68-bf19-99ce1e8c03b3",
        "colab": {
          "base_uri": "https://localhost:8080/",
          "height": 80
        }
      },
      "source": [
        "clf=neighbors.KNeighborsClassifier()\n",
        "clf.fit(x_train,y_train)"
      ],
      "execution_count": null,
      "outputs": [
        {
          "output_type": "execute_result",
          "data": {
            "text/plain": [
              "KNeighborsClassifier()"
            ],
            "text/html": [
              "<style>#sk-container-id-9 {\n",
              "  /* Definition of color scheme common for light and dark mode */\n",
              "  --sklearn-color-text: #000;\n",
              "  --sklearn-color-text-muted: #666;\n",
              "  --sklearn-color-line: gray;\n",
              "  /* Definition of color scheme for unfitted estimators */\n",
              "  --sklearn-color-unfitted-level-0: #fff5e6;\n",
              "  --sklearn-color-unfitted-level-1: #f6e4d2;\n",
              "  --sklearn-color-unfitted-level-2: #ffe0b3;\n",
              "  --sklearn-color-unfitted-level-3: chocolate;\n",
              "  /* Definition of color scheme for fitted estimators */\n",
              "  --sklearn-color-fitted-level-0: #f0f8ff;\n",
              "  --sklearn-color-fitted-level-1: #d4ebff;\n",
              "  --sklearn-color-fitted-level-2: #b3dbfd;\n",
              "  --sklearn-color-fitted-level-3: cornflowerblue;\n",
              "\n",
              "  /* Specific color for light theme */\n",
              "  --sklearn-color-text-on-default-background: var(--sg-text-color, var(--theme-code-foreground, var(--jp-content-font-color1, black)));\n",
              "  --sklearn-color-background: var(--sg-background-color, var(--theme-background, var(--jp-layout-color0, white)));\n",
              "  --sklearn-color-border-box: var(--sg-text-color, var(--theme-code-foreground, var(--jp-content-font-color1, black)));\n",
              "  --sklearn-color-icon: #696969;\n",
              "\n",
              "  @media (prefers-color-scheme: dark) {\n",
              "    /* Redefinition of color scheme for dark theme */\n",
              "    --sklearn-color-text-on-default-background: var(--sg-text-color, var(--theme-code-foreground, var(--jp-content-font-color1, white)));\n",
              "    --sklearn-color-background: var(--sg-background-color, var(--theme-background, var(--jp-layout-color0, #111)));\n",
              "    --sklearn-color-border-box: var(--sg-text-color, var(--theme-code-foreground, var(--jp-content-font-color1, white)));\n",
              "    --sklearn-color-icon: #878787;\n",
              "  }\n",
              "}\n",
              "\n",
              "#sk-container-id-9 {\n",
              "  color: var(--sklearn-color-text);\n",
              "}\n",
              "\n",
              "#sk-container-id-9 pre {\n",
              "  padding: 0;\n",
              "}\n",
              "\n",
              "#sk-container-id-9 input.sk-hidden--visually {\n",
              "  border: 0;\n",
              "  clip: rect(1px 1px 1px 1px);\n",
              "  clip: rect(1px, 1px, 1px, 1px);\n",
              "  height: 1px;\n",
              "  margin: -1px;\n",
              "  overflow: hidden;\n",
              "  padding: 0;\n",
              "  position: absolute;\n",
              "  width: 1px;\n",
              "}\n",
              "\n",
              "#sk-container-id-9 div.sk-dashed-wrapped {\n",
              "  border: 1px dashed var(--sklearn-color-line);\n",
              "  margin: 0 0.4em 0.5em 0.4em;\n",
              "  box-sizing: border-box;\n",
              "  padding-bottom: 0.4em;\n",
              "  background-color: var(--sklearn-color-background);\n",
              "}\n",
              "\n",
              "#sk-container-id-9 div.sk-container {\n",
              "  /* jupyter's `normalize.less` sets `[hidden] { display: none; }`\n",
              "     but bootstrap.min.css set `[hidden] { display: none !important; }`\n",
              "     so we also need the `!important` here to be able to override the\n",
              "     default hidden behavior on the sphinx rendered scikit-learn.org.\n",
              "     See: https://github.com/scikit-learn/scikit-learn/issues/21755 */\n",
              "  display: inline-block !important;\n",
              "  position: relative;\n",
              "}\n",
              "\n",
              "#sk-container-id-9 div.sk-text-repr-fallback {\n",
              "  display: none;\n",
              "}\n",
              "\n",
              "div.sk-parallel-item,\n",
              "div.sk-serial,\n",
              "div.sk-item {\n",
              "  /* draw centered vertical line to link estimators */\n",
              "  background-image: linear-gradient(var(--sklearn-color-text-on-default-background), var(--sklearn-color-text-on-default-background));\n",
              "  background-size: 2px 100%;\n",
              "  background-repeat: no-repeat;\n",
              "  background-position: center center;\n",
              "}\n",
              "\n",
              "/* Parallel-specific style estimator block */\n",
              "\n",
              "#sk-container-id-9 div.sk-parallel-item::after {\n",
              "  content: \"\";\n",
              "  width: 100%;\n",
              "  border-bottom: 2px solid var(--sklearn-color-text-on-default-background);\n",
              "  flex-grow: 1;\n",
              "}\n",
              "\n",
              "#sk-container-id-9 div.sk-parallel {\n",
              "  display: flex;\n",
              "  align-items: stretch;\n",
              "  justify-content: center;\n",
              "  background-color: var(--sklearn-color-background);\n",
              "  position: relative;\n",
              "}\n",
              "\n",
              "#sk-container-id-9 div.sk-parallel-item {\n",
              "  display: flex;\n",
              "  flex-direction: column;\n",
              "}\n",
              "\n",
              "#sk-container-id-9 div.sk-parallel-item:first-child::after {\n",
              "  align-self: flex-end;\n",
              "  width: 50%;\n",
              "}\n",
              "\n",
              "#sk-container-id-9 div.sk-parallel-item:last-child::after {\n",
              "  align-self: flex-start;\n",
              "  width: 50%;\n",
              "}\n",
              "\n",
              "#sk-container-id-9 div.sk-parallel-item:only-child::after {\n",
              "  width: 0;\n",
              "}\n",
              "\n",
              "/* Serial-specific style estimator block */\n",
              "\n",
              "#sk-container-id-9 div.sk-serial {\n",
              "  display: flex;\n",
              "  flex-direction: column;\n",
              "  align-items: center;\n",
              "  background-color: var(--sklearn-color-background);\n",
              "  padding-right: 1em;\n",
              "  padding-left: 1em;\n",
              "}\n",
              "\n",
              "\n",
              "/* Toggleable style: style used for estimator/Pipeline/ColumnTransformer box that is\n",
              "clickable and can be expanded/collapsed.\n",
              "- Pipeline and ColumnTransformer use this feature and define the default style\n",
              "- Estimators will overwrite some part of the style using the `sk-estimator` class\n",
              "*/\n",
              "\n",
              "/* Pipeline and ColumnTransformer style (default) */\n",
              "\n",
              "#sk-container-id-9 div.sk-toggleable {\n",
              "  /* Default theme specific background. It is overwritten whether we have a\n",
              "  specific estimator or a Pipeline/ColumnTransformer */\n",
              "  background-color: var(--sklearn-color-background);\n",
              "}\n",
              "\n",
              "/* Toggleable label */\n",
              "#sk-container-id-9 label.sk-toggleable__label {\n",
              "  cursor: pointer;\n",
              "  display: flex;\n",
              "  width: 100%;\n",
              "  margin-bottom: 0;\n",
              "  padding: 0.5em;\n",
              "  box-sizing: border-box;\n",
              "  text-align: center;\n",
              "  align-items: start;\n",
              "  justify-content: space-between;\n",
              "  gap: 0.5em;\n",
              "}\n",
              "\n",
              "#sk-container-id-9 label.sk-toggleable__label .caption {\n",
              "  font-size: 0.6rem;\n",
              "  font-weight: lighter;\n",
              "  color: var(--sklearn-color-text-muted);\n",
              "}\n",
              "\n",
              "#sk-container-id-9 label.sk-toggleable__label-arrow:before {\n",
              "  /* Arrow on the left of the label */\n",
              "  content: \"▸\";\n",
              "  float: left;\n",
              "  margin-right: 0.25em;\n",
              "  color: var(--sklearn-color-icon);\n",
              "}\n",
              "\n",
              "#sk-container-id-9 label.sk-toggleable__label-arrow:hover:before {\n",
              "  color: var(--sklearn-color-text);\n",
              "}\n",
              "\n",
              "/* Toggleable content - dropdown */\n",
              "\n",
              "#sk-container-id-9 div.sk-toggleable__content {\n",
              "  max-height: 0;\n",
              "  max-width: 0;\n",
              "  overflow: hidden;\n",
              "  text-align: left;\n",
              "  /* unfitted */\n",
              "  background-color: var(--sklearn-color-unfitted-level-0);\n",
              "}\n",
              "\n",
              "#sk-container-id-9 div.sk-toggleable__content.fitted {\n",
              "  /* fitted */\n",
              "  background-color: var(--sklearn-color-fitted-level-0);\n",
              "}\n",
              "\n",
              "#sk-container-id-9 div.sk-toggleable__content pre {\n",
              "  margin: 0.2em;\n",
              "  border-radius: 0.25em;\n",
              "  color: var(--sklearn-color-text);\n",
              "  /* unfitted */\n",
              "  background-color: var(--sklearn-color-unfitted-level-0);\n",
              "}\n",
              "\n",
              "#sk-container-id-9 div.sk-toggleable__content.fitted pre {\n",
              "  /* unfitted */\n",
              "  background-color: var(--sklearn-color-fitted-level-0);\n",
              "}\n",
              "\n",
              "#sk-container-id-9 input.sk-toggleable__control:checked~div.sk-toggleable__content {\n",
              "  /* Expand drop-down */\n",
              "  max-height: 200px;\n",
              "  max-width: 100%;\n",
              "  overflow: auto;\n",
              "}\n",
              "\n",
              "#sk-container-id-9 input.sk-toggleable__control:checked~label.sk-toggleable__label-arrow:before {\n",
              "  content: \"▾\";\n",
              "}\n",
              "\n",
              "/* Pipeline/ColumnTransformer-specific style */\n",
              "\n",
              "#sk-container-id-9 div.sk-label input.sk-toggleable__control:checked~label.sk-toggleable__label {\n",
              "  color: var(--sklearn-color-text);\n",
              "  background-color: var(--sklearn-color-unfitted-level-2);\n",
              "}\n",
              "\n",
              "#sk-container-id-9 div.sk-label.fitted input.sk-toggleable__control:checked~label.sk-toggleable__label {\n",
              "  background-color: var(--sklearn-color-fitted-level-2);\n",
              "}\n",
              "\n",
              "/* Estimator-specific style */\n",
              "\n",
              "/* Colorize estimator box */\n",
              "#sk-container-id-9 div.sk-estimator input.sk-toggleable__control:checked~label.sk-toggleable__label {\n",
              "  /* unfitted */\n",
              "  background-color: var(--sklearn-color-unfitted-level-2);\n",
              "}\n",
              "\n",
              "#sk-container-id-9 div.sk-estimator.fitted input.sk-toggleable__control:checked~label.sk-toggleable__label {\n",
              "  /* fitted */\n",
              "  background-color: var(--sklearn-color-fitted-level-2);\n",
              "}\n",
              "\n",
              "#sk-container-id-9 div.sk-label label.sk-toggleable__label,\n",
              "#sk-container-id-9 div.sk-label label {\n",
              "  /* The background is the default theme color */\n",
              "  color: var(--sklearn-color-text-on-default-background);\n",
              "}\n",
              "\n",
              "/* On hover, darken the color of the background */\n",
              "#sk-container-id-9 div.sk-label:hover label.sk-toggleable__label {\n",
              "  color: var(--sklearn-color-text);\n",
              "  background-color: var(--sklearn-color-unfitted-level-2);\n",
              "}\n",
              "\n",
              "/* Label box, darken color on hover, fitted */\n",
              "#sk-container-id-9 div.sk-label.fitted:hover label.sk-toggleable__label.fitted {\n",
              "  color: var(--sklearn-color-text);\n",
              "  background-color: var(--sklearn-color-fitted-level-2);\n",
              "}\n",
              "\n",
              "/* Estimator label */\n",
              "\n",
              "#sk-container-id-9 div.sk-label label {\n",
              "  font-family: monospace;\n",
              "  font-weight: bold;\n",
              "  display: inline-block;\n",
              "  line-height: 1.2em;\n",
              "}\n",
              "\n",
              "#sk-container-id-9 div.sk-label-container {\n",
              "  text-align: center;\n",
              "}\n",
              "\n",
              "/* Estimator-specific */\n",
              "#sk-container-id-9 div.sk-estimator {\n",
              "  font-family: monospace;\n",
              "  border: 1px dotted var(--sklearn-color-border-box);\n",
              "  border-radius: 0.25em;\n",
              "  box-sizing: border-box;\n",
              "  margin-bottom: 0.5em;\n",
              "  /* unfitted */\n",
              "  background-color: var(--sklearn-color-unfitted-level-0);\n",
              "}\n",
              "\n",
              "#sk-container-id-9 div.sk-estimator.fitted {\n",
              "  /* fitted */\n",
              "  background-color: var(--sklearn-color-fitted-level-0);\n",
              "}\n",
              "\n",
              "/* on hover */\n",
              "#sk-container-id-9 div.sk-estimator:hover {\n",
              "  /* unfitted */\n",
              "  background-color: var(--sklearn-color-unfitted-level-2);\n",
              "}\n",
              "\n",
              "#sk-container-id-9 div.sk-estimator.fitted:hover {\n",
              "  /* fitted */\n",
              "  background-color: var(--sklearn-color-fitted-level-2);\n",
              "}\n",
              "\n",
              "/* Specification for estimator info (e.g. \"i\" and \"?\") */\n",
              "\n",
              "/* Common style for \"i\" and \"?\" */\n",
              "\n",
              ".sk-estimator-doc-link,\n",
              "a:link.sk-estimator-doc-link,\n",
              "a:visited.sk-estimator-doc-link {\n",
              "  float: right;\n",
              "  font-size: smaller;\n",
              "  line-height: 1em;\n",
              "  font-family: monospace;\n",
              "  background-color: var(--sklearn-color-background);\n",
              "  border-radius: 1em;\n",
              "  height: 1em;\n",
              "  width: 1em;\n",
              "  text-decoration: none !important;\n",
              "  margin-left: 0.5em;\n",
              "  text-align: center;\n",
              "  /* unfitted */\n",
              "  border: var(--sklearn-color-unfitted-level-1) 1pt solid;\n",
              "  color: var(--sklearn-color-unfitted-level-1);\n",
              "}\n",
              "\n",
              ".sk-estimator-doc-link.fitted,\n",
              "a:link.sk-estimator-doc-link.fitted,\n",
              "a:visited.sk-estimator-doc-link.fitted {\n",
              "  /* fitted */\n",
              "  border: var(--sklearn-color-fitted-level-1) 1pt solid;\n",
              "  color: var(--sklearn-color-fitted-level-1);\n",
              "}\n",
              "\n",
              "/* On hover */\n",
              "div.sk-estimator:hover .sk-estimator-doc-link:hover,\n",
              ".sk-estimator-doc-link:hover,\n",
              "div.sk-label-container:hover .sk-estimator-doc-link:hover,\n",
              ".sk-estimator-doc-link:hover {\n",
              "  /* unfitted */\n",
              "  background-color: var(--sklearn-color-unfitted-level-3);\n",
              "  color: var(--sklearn-color-background);\n",
              "  text-decoration: none;\n",
              "}\n",
              "\n",
              "div.sk-estimator.fitted:hover .sk-estimator-doc-link.fitted:hover,\n",
              ".sk-estimator-doc-link.fitted:hover,\n",
              "div.sk-label-container:hover .sk-estimator-doc-link.fitted:hover,\n",
              ".sk-estimator-doc-link.fitted:hover {\n",
              "  /* fitted */\n",
              "  background-color: var(--sklearn-color-fitted-level-3);\n",
              "  color: var(--sklearn-color-background);\n",
              "  text-decoration: none;\n",
              "}\n",
              "\n",
              "/* Span, style for the box shown on hovering the info icon */\n",
              ".sk-estimator-doc-link span {\n",
              "  display: none;\n",
              "  z-index: 9999;\n",
              "  position: relative;\n",
              "  font-weight: normal;\n",
              "  right: .2ex;\n",
              "  padding: .5ex;\n",
              "  margin: .5ex;\n",
              "  width: min-content;\n",
              "  min-width: 20ex;\n",
              "  max-width: 50ex;\n",
              "  color: var(--sklearn-color-text);\n",
              "  box-shadow: 2pt 2pt 4pt #999;\n",
              "  /* unfitted */\n",
              "  background: var(--sklearn-color-unfitted-level-0);\n",
              "  border: .5pt solid var(--sklearn-color-unfitted-level-3);\n",
              "}\n",
              "\n",
              ".sk-estimator-doc-link.fitted span {\n",
              "  /* fitted */\n",
              "  background: var(--sklearn-color-fitted-level-0);\n",
              "  border: var(--sklearn-color-fitted-level-3);\n",
              "}\n",
              "\n",
              ".sk-estimator-doc-link:hover span {\n",
              "  display: block;\n",
              "}\n",
              "\n",
              "/* \"?\"-specific style due to the `<a>` HTML tag */\n",
              "\n",
              "#sk-container-id-9 a.estimator_doc_link {\n",
              "  float: right;\n",
              "  font-size: 1rem;\n",
              "  line-height: 1em;\n",
              "  font-family: monospace;\n",
              "  background-color: var(--sklearn-color-background);\n",
              "  border-radius: 1rem;\n",
              "  height: 1rem;\n",
              "  width: 1rem;\n",
              "  text-decoration: none;\n",
              "  /* unfitted */\n",
              "  color: var(--sklearn-color-unfitted-level-1);\n",
              "  border: var(--sklearn-color-unfitted-level-1) 1pt solid;\n",
              "}\n",
              "\n",
              "#sk-container-id-9 a.estimator_doc_link.fitted {\n",
              "  /* fitted */\n",
              "  border: var(--sklearn-color-fitted-level-1) 1pt solid;\n",
              "  color: var(--sklearn-color-fitted-level-1);\n",
              "}\n",
              "\n",
              "/* On hover */\n",
              "#sk-container-id-9 a.estimator_doc_link:hover {\n",
              "  /* unfitted */\n",
              "  background-color: var(--sklearn-color-unfitted-level-3);\n",
              "  color: var(--sklearn-color-background);\n",
              "  text-decoration: none;\n",
              "}\n",
              "\n",
              "#sk-container-id-9 a.estimator_doc_link.fitted:hover {\n",
              "  /* fitted */\n",
              "  background-color: var(--sklearn-color-fitted-level-3);\n",
              "}\n",
              "</style><div id=\"sk-container-id-9\" class=\"sk-top-container\"><div class=\"sk-text-repr-fallback\"><pre>KNeighborsClassifier()</pre><b>In a Jupyter environment, please rerun this cell to show the HTML representation or trust the notebook. <br />On GitHub, the HTML representation is unable to render, please try loading this page with nbviewer.org.</b></div><div class=\"sk-container\" hidden><div class=\"sk-item\"><div class=\"sk-estimator fitted sk-toggleable\"><input class=\"sk-toggleable__control sk-hidden--visually\" id=\"sk-estimator-id-9\" type=\"checkbox\" checked><label for=\"sk-estimator-id-9\" class=\"sk-toggleable__label fitted sk-toggleable__label-arrow\"><div><div>KNeighborsClassifier</div></div><div><a class=\"sk-estimator-doc-link fitted\" rel=\"noreferrer\" target=\"_blank\" href=\"https://scikit-learn.org/1.6/modules/generated/sklearn.neighbors.KNeighborsClassifier.html\">?<span>Documentation for KNeighborsClassifier</span></a><span class=\"sk-estimator-doc-link fitted\">i<span>Fitted</span></span></div></label><div class=\"sk-toggleable__content fitted\"><pre>KNeighborsClassifier()</pre></div> </div></div></div></div>"
            ]
          },
          "metadata": {},
          "execution_count": 176
        }
      ]
    },
    {
      "cell_type": "code",
      "metadata": {
        "id": "R5NnhF3qdZtQ",
        "outputId": "e540bdf0-3875-4b48-bdf9-2255dfeca1f7",
        "colab": {
          "base_uri": "https://localhost:8080/"
        }
      },
      "source": [
        "y_predict=clf.predict(x_test)\n",
        "y_predict"
      ],
      "execution_count": null,
      "outputs": [
        {
          "output_type": "execute_result",
          "data": {
            "text/plain": [
              "array([1, 1, 1, 0, 0, 0, 0, 1, 0, 1, 0, 0, 1, 0, 0, 1, 0, 1, 1, 0, 0, 0,\n",
              "       1, 1])"
            ]
          },
          "metadata": {},
          "execution_count": 177
        }
      ]
    },
    {
      "cell_type": "code",
      "metadata": {
        "id": "uuCdR5lNdekN"
      },
      "source": [
        "x_train_std=minmax.fit_transform(x_train)\n",
        "x_test_std=minmax.fit_transform(x_test)\n",
        "knn_acc=cross_val_score(clf,x_train_std,y_train,cv=3,scoring='accuracy',n_jobs=-1)\n",
        "knn_proba=cross_val_predict(clf,x_train_std,y_train,cv=3,method='predict_proba')"
      ],
      "execution_count": null,
      "outputs": []
    },
    {
      "cell_type": "code",
      "metadata": {
        "id": "mHk2cfdRdh9P",
        "outputId": "3bd93d6a-1427-4dda-b215-73258979f838",
        "colab": {
          "base_uri": "https://localhost:8080/"
        }
      },
      "source": [
        "print(knn_acc)"
      ],
      "execution_count": null,
      "outputs": [
        {
          "output_type": "stream",
          "name": "stdout",
          "text": [
            "[0.84375    0.74193548 0.70967742]\n"
          ]
        }
      ]
    },
    {
      "cell_type": "code",
      "metadata": {
        "id": "DI1wUcEqdm1g",
        "outputId": "af9853f5-3b5a-4bc1-9a7e-34f2ea10c2d2",
        "colab": {
          "base_uri": "https://localhost:8080/"
        }
      },
      "source": [
        "print(knn_proba)"
      ],
      "execution_count": null,
      "outputs": [
        {
          "output_type": "stream",
          "name": "stdout",
          "text": [
            "[[1.  0. ]\n",
            " [0.4 0.6]\n",
            " [0.8 0.2]\n",
            " [0.4 0.6]\n",
            " [0.4 0.6]\n",
            " [0.8 0.2]\n",
            " [0.2 0.8]\n",
            " [0.8 0.2]\n",
            " [0.8 0.2]\n",
            " [0.  1. ]\n",
            " [0.4 0.6]\n",
            " [0.4 0.6]\n",
            " [0.8 0.2]\n",
            " [1.  0. ]\n",
            " [0.6 0.4]\n",
            " [1.  0. ]\n",
            " [0.4 0.6]\n",
            " [0.4 0.6]\n",
            " [0.8 0.2]\n",
            " [0.8 0.2]\n",
            " [0.6 0.4]\n",
            " [1.  0. ]\n",
            " [0.4 0.6]\n",
            " [0.2 0.8]\n",
            " [0.6 0.4]\n",
            " [0.2 0.8]\n",
            " [0.8 0.2]\n",
            " [0.2 0.8]\n",
            " [0.8 0.2]\n",
            " [1.  0. ]\n",
            " [0.4 0.6]\n",
            " [0.6 0.4]\n",
            " [0.6 0.4]\n",
            " [0.2 0.8]\n",
            " [0.8 0.2]\n",
            " [1.  0. ]\n",
            " [0.4 0.6]\n",
            " [0.6 0.4]\n",
            " [0.4 0.6]\n",
            " [0.8 0.2]\n",
            " [0.2 0.8]\n",
            " [0.2 0.8]\n",
            " [0.4 0.6]\n",
            " [0.  1. ]\n",
            " [0.4 0.6]\n",
            " [0.2 0.8]\n",
            " [0.4 0.6]\n",
            " [0.4 0.6]\n",
            " [0.6 0.4]\n",
            " [0.4 0.6]\n",
            " [0.2 0.8]\n",
            " [0.  1. ]\n",
            " [0.6 0.4]\n",
            " [0.8 0.2]\n",
            " [0.4 0.6]\n",
            " [0.6 0.4]\n",
            " [0.4 0.6]\n",
            " [0.2 0.8]\n",
            " [0.2 0.8]\n",
            " [1.  0. ]\n",
            " [0.8 0.2]\n",
            " [0.4 0.6]\n",
            " [0.6 0.4]\n",
            " [0.6 0.4]\n",
            " [0.6 0.4]\n",
            " [0.6 0.4]\n",
            " [0.6 0.4]\n",
            " [0.4 0.6]\n",
            " [0.4 0.6]\n",
            " [0.8 0.2]\n",
            " [1.  0. ]\n",
            " [0.6 0.4]\n",
            " [1.  0. ]\n",
            " [0.8 0.2]\n",
            " [0.  1. ]\n",
            " [0.8 0.2]\n",
            " [0.2 0.8]\n",
            " [0.8 0.2]\n",
            " [0.6 0.4]\n",
            " [1.  0. ]\n",
            " [0.6 0.4]\n",
            " [1.  0. ]\n",
            " [0.2 0.8]\n",
            " [0.8 0.2]\n",
            " [0.6 0.4]\n",
            " [0.2 0.8]\n",
            " [0.6 0.4]\n",
            " [0.6 0.4]\n",
            " [1.  0. ]\n",
            " [1.  0. ]\n",
            " [0.6 0.4]\n",
            " [1.  0. ]\n",
            " [0.4 0.6]\n",
            " [0.8 0.2]]\n"
          ]
        }
      ]
    },
    {
      "cell_type": "code",
      "metadata": {
        "id": "GGzYdIUfeH5w",
        "outputId": "1f915253-858f-4c19-8593-42901955c40e",
        "colab": {
          "base_uri": "https://localhost:8080/"
        }
      },
      "source": [
        "print(\"Accuracy Score:%f\"%(accuracy_score(y_test,y_predict)))\n",
        "print(\"Recall Score:%f\"%(recall_score(y_test,y_predict)))\n",
        "print(\"ROC score:%f\"%(roc_auc_score(y_test,y_predict)))\n",
        "print(confusion_matrix(y_test,y_predict))"
      ],
      "execution_count": null,
      "outputs": [
        {
          "output_type": "stream",
          "name": "stdout",
          "text": [
            "Accuracy Score:0.958333\n",
            "Recall Score:1.000000\n",
            "ROC score:0.964286\n",
            "[[13  1]\n",
            " [ 0 10]]\n"
          ]
        }
      ]
    },
    {
      "cell_type": "markdown",
      "metadata": {
        "id": "ZmIEjyNseiFa"
      },
      "source": [
        "## Now Lets Apply Logistic Regression"
      ]
    },
    {
      "cell_type": "code",
      "metadata": {
        "id": "B9E6JKdBeW1P"
      },
      "source": [
        "x_train_std=minmax.fit_transform(x_train)#It is used to fit the values in between 0 and 1\n",
        "y_train_std=minmax.transform(x_test)"
      ],
      "execution_count": null,
      "outputs": []
    },
    {
      "cell_type": "code",
      "metadata": {
        "id": "bJcnRG1gevEt",
        "outputId": "80857e82-7cd4-414d-c7b1-e610048cc7c8",
        "colab": {
          "base_uri": "https://localhost:8080/"
        }
      },
      "source": [
        "lr=LogisticRegression()\n",
        "lr.fit(x_train,y_train)\n",
        "lr_acc=cross_val_score(lr,x_train_std,y_train,cv=3,scoring='accuracy',n_jobs=-1)\n",
        "lr_proba=cross_val_predict(lr,x_train_std,y_train,cv=3,method='predict_proba')"
      ],
      "execution_count": null,
      "outputs": [
        {
          "output_type": "stream",
          "name": "stderr",
          "text": [
            "/usr/local/lib/python3.10/dist-packages/sklearn/linear_model/_logistic.py:465: ConvergenceWarning: lbfgs failed to converge (status=1):\n",
            "STOP: TOTAL NO. of ITERATIONS REACHED LIMIT.\n",
            "\n",
            "Increase the number of iterations (max_iter) or scale the data as shown in:\n",
            "    https://scikit-learn.org/stable/modules/preprocessing.html\n",
            "Please also refer to the documentation for alternative solver options:\n",
            "    https://scikit-learn.org/stable/modules/linear_model.html#logistic-regression\n",
            "  n_iter_i = _check_optimize_result(\n"
          ]
        }
      ]
    },
    {
      "cell_type": "code",
      "metadata": {
        "id": "0xrIz-ixgTwX",
        "outputId": "2ec72ed3-a5b0-4e0f-dfcc-392bce870da1",
        "colab": {
          "base_uri": "https://localhost:8080/"
        }
      },
      "source": [
        "y_pred=lr.predict(x_test)\n",
        "print(y_pred)"
      ],
      "execution_count": null,
      "outputs": [
        {
          "output_type": "stream",
          "name": "stdout",
          "text": [
            "[1 1 1 0 0 0 0 1 0 1 0 0 1 0 0 1 1 1 1 0 0 0 1 1]\n"
          ]
        }
      ]
    },
    {
      "cell_type": "code",
      "metadata": {
        "id": "VaG8GKJ_fPwx",
        "outputId": "765cd3b2-4c59-4268-ccde-1a5951511021",
        "colab": {
          "base_uri": "https://localhost:8080/"
        }
      },
      "source": [
        "lr_acc"
      ],
      "execution_count": null,
      "outputs": [
        {
          "output_type": "execute_result",
          "data": {
            "text/plain": [
              "array([1.        , 0.74193548, 0.93548387])"
            ]
          },
          "metadata": {},
          "execution_count": 185
        }
      ]
    },
    {
      "cell_type": "code",
      "metadata": {
        "id": "vEM5p-G8fQbc",
        "outputId": "878df6ef-f746-4fa1-c4b3-3656e4e4738d",
        "colab": {
          "base_uri": "https://localhost:8080/"
        }
      },
      "source": [
        "lr_proba"
      ],
      "execution_count": null,
      "outputs": [
        {
          "output_type": "execute_result",
          "data": {
            "text/plain": [
              "array([[0.67069348, 0.32930652],\n",
              "       [0.57473014, 0.42526986],\n",
              "       [0.71519302, 0.28480698],\n",
              "       [0.43349485, 0.56650515],\n",
              "       [0.105231  , 0.894769  ],\n",
              "       [0.68967434, 0.31032566],\n",
              "       [0.21514412, 0.78485588],\n",
              "       [0.58690481, 0.41309519],\n",
              "       [0.64377477, 0.35622523],\n",
              "       [0.10363035, 0.89636965],\n",
              "       [0.36428625, 0.63571375],\n",
              "       [0.33392711, 0.66607289],\n",
              "       [0.59211055, 0.40788945],\n",
              "       [0.67980281, 0.32019719],\n",
              "       [0.42787421, 0.57212579],\n",
              "       [0.71249509, 0.28750491],\n",
              "       [0.44861274, 0.55138726],\n",
              "       [0.42599098, 0.57400902],\n",
              "       [0.76798325, 0.23201675],\n",
              "       [0.7863097 , 0.2136903 ],\n",
              "       [0.31624055, 0.68375945],\n",
              "       [0.62629062, 0.37370938],\n",
              "       [0.35491692, 0.64508308],\n",
              "       [0.23514524, 0.76485476],\n",
              "       [0.47430391, 0.52569609],\n",
              "       [0.34029534, 0.65970466],\n",
              "       [0.65067643, 0.34932357],\n",
              "       [0.29010634, 0.70989366],\n",
              "       [0.70486962, 0.29513038],\n",
              "       [0.63157851, 0.36842149],\n",
              "       [0.32975849, 0.67024151],\n",
              "       [0.59444188, 0.40555812],\n",
              "       [0.38034528, 0.61965472],\n",
              "       [0.17769119, 0.82230881],\n",
              "       [0.55636278, 0.44363722],\n",
              "       [0.79483539, 0.20516461],\n",
              "       [0.20468465, 0.79531535],\n",
              "       [0.51209448, 0.48790552],\n",
              "       [0.3030797 , 0.6969203 ],\n",
              "       [0.59484209, 0.40515791],\n",
              "       [0.32800839, 0.67199161],\n",
              "       [0.2773585 , 0.7226415 ],\n",
              "       [0.59675754, 0.40324246],\n",
              "       [0.32063838, 0.67936162],\n",
              "       [0.41921822, 0.58078178],\n",
              "       [0.25387122, 0.74612878],\n",
              "       [0.51779538, 0.48220462],\n",
              "       [0.26012999, 0.73987001],\n",
              "       [0.55707885, 0.44292115],\n",
              "       [0.24561118, 0.75438882],\n",
              "       [0.3487413 , 0.6512587 ],\n",
              "       [0.28451538, 0.71548462],\n",
              "       [0.48747848, 0.51252152],\n",
              "       [0.62848138, 0.37151862],\n",
              "       [0.41602745, 0.58397255],\n",
              "       [0.50460137, 0.49539863],\n",
              "       [0.37142683, 0.62857317],\n",
              "       [0.32335817, 0.67664183],\n",
              "       [0.17090179, 0.82909821],\n",
              "       [0.56378071, 0.43621929],\n",
              "       [0.5772277 , 0.4227723 ],\n",
              "       [0.48120561, 0.51879439],\n",
              "       [0.48569026, 0.51430974],\n",
              "       [0.51367377, 0.48632623],\n",
              "       [0.4356171 , 0.5643829 ],\n",
              "       [0.38857336, 0.61142664],\n",
              "       [0.52929969, 0.47070031],\n",
              "       [0.37244602, 0.62755398],\n",
              "       [0.42693557, 0.57306443],\n",
              "       [0.43411991, 0.56588009],\n",
              "       [0.76685744, 0.23314256],\n",
              "       [0.60725583, 0.39274417],\n",
              "       [0.5512905 , 0.4487095 ],\n",
              "       [0.63654701, 0.36345299],\n",
              "       [0.10423155, 0.89576845],\n",
              "       [0.57491544, 0.42508456],\n",
              "       [0.23787624, 0.76212376],\n",
              "       [0.76085052, 0.23914948],\n",
              "       [0.29878389, 0.70121611],\n",
              "       [0.62334825, 0.37665175],\n",
              "       [0.33546247, 0.66453753],\n",
              "       [0.7226813 , 0.2773187 ],\n",
              "       [0.26142563, 0.73857437],\n",
              "       [0.43054556, 0.56945444],\n",
              "       [0.49765427, 0.50234573],\n",
              "       [0.3347017 , 0.6652983 ],\n",
              "       [0.2791913 , 0.7208087 ],\n",
              "       [0.36226795, 0.63773205],\n",
              "       [0.7340647 , 0.2659353 ],\n",
              "       [0.61380264, 0.38619736],\n",
              "       [0.59805296, 0.40194704],\n",
              "       [0.50830345, 0.49169655],\n",
              "       [0.35730738, 0.64269262],\n",
              "       [0.59884248, 0.40115752]])"
            ]
          },
          "metadata": {},
          "execution_count": 186
        }
      ]
    },
    {
      "cell_type": "code",
      "metadata": {
        "id": "ZECAwh5VfTAx",
        "outputId": "28dec1af-90cc-4290-c29a-267725e913b8",
        "colab": {
          "base_uri": "https://localhost:8080/"
        }
      },
      "source": [
        "print(\"Accuracy score:%f\"%(accuracy_score(y_test,y_pred)))\n",
        "print(\"recall score:%f\"%(recall_score(y_test,y_pred)))\n",
        "print(\"roc score:%f\"%(roc_auc_score(y_test,y_pred)))\n",
        "print(confusion_matrix(y_test,y_pred))"
      ],
      "execution_count": null,
      "outputs": [
        {
          "output_type": "stream",
          "name": "stdout",
          "text": [
            "Accuracy score:0.916667\n",
            "recall score:1.000000\n",
            "roc score:0.928571\n",
            "[[12  2]\n",
            " [ 0 10]]\n"
          ]
        }
      ]
    },
    {
      "cell_type": "markdown",
      "metadata": {
        "id": "ku8WBRRWfeE6"
      },
      "source": [
        "#### Now Lets apply SVM"
      ]
    },
    {
      "cell_type": "code",
      "metadata": {
        "id": "56kqtZ4MfbmJ"
      },
      "source": [
        "svc=SVC(kernel='rbf',probability=True)\n",
        "svc_classifier=svc.fit(x_train,y_train)\n",
        "svc_acc=cross_val_score(svc_classifier,x_train_std,y_train,cv=3,scoring=\"accuracy\",n_jobs=-1)\n",
        "svc_proba=cross_val_predict(svc_classifier,x_train_std,y_train,cv=3,method='predict_proba')"
      ],
      "execution_count": null,
      "outputs": []
    },
    {
      "cell_type": "code",
      "metadata": {
        "id": "oqGTrk6ogcV-",
        "outputId": "304f1344-659f-424c-b56f-7e2d89866899",
        "colab": {
          "base_uri": "https://localhost:8080/"
        }
      },
      "source": [
        "svc_acc"
      ],
      "execution_count": null,
      "outputs": [
        {
          "output_type": "execute_result",
          "data": {
            "text/plain": [
              "array([0.9375    , 0.83870968, 0.90322581])"
            ]
          },
          "metadata": {},
          "execution_count": 189
        }
      ]
    },
    {
      "cell_type": "code",
      "metadata": {
        "id": "kpSYabKkggia",
        "outputId": "f5acdfb8-c222-441a-954e-3b38555fd6a0",
        "colab": {
          "base_uri": "https://localhost:8080/"
        }
      },
      "source": [
        "svc_proba"
      ],
      "execution_count": null,
      "outputs": [
        {
          "output_type": "execute_result",
          "data": {
            "text/plain": [
              "array([[9.86899687e-01, 1.31003127e-02],\n",
              "       [4.14030699e-01, 5.85969301e-01],\n",
              "       [9.67599877e-01, 3.24001226e-02],\n",
              "       [2.94414969e-01, 7.05585031e-01],\n",
              "       [6.79951455e-03, 9.93200485e-01],\n",
              "       [7.81632066e-01, 2.18367934e-01],\n",
              "       [5.66177013e-03, 9.94338230e-01],\n",
              "       [8.99842461e-01, 1.00157539e-01],\n",
              "       [7.82482708e-01, 2.17517292e-01],\n",
              "       [1.14987132e-05, 9.99988501e-01],\n",
              "       [5.97725586e-02, 9.40227441e-01],\n",
              "       [4.24547318e-02, 9.57545268e-01],\n",
              "       [7.64419403e-01, 2.35580597e-01],\n",
              "       [9.88739692e-01, 1.12603083e-02],\n",
              "       [1.04478530e-01, 8.95521470e-01],\n",
              "       [8.20939623e-01, 1.79060377e-01],\n",
              "       [2.60981171e-01, 7.39018829e-01],\n",
              "       [2.08978536e-01, 7.91021464e-01],\n",
              "       [9.40211233e-01, 5.97887667e-02],\n",
              "       [9.53385731e-01, 4.66142685e-02],\n",
              "       [8.75280675e-02, 9.12471932e-01],\n",
              "       [9.33269239e-01, 6.67307606e-02],\n",
              "       [1.00299358e-01, 8.99700642e-01],\n",
              "       [4.06469770e-02, 9.59353023e-01],\n",
              "       [3.55091770e-01, 6.44908230e-01],\n",
              "       [5.54409721e-02, 9.44559028e-01],\n",
              "       [4.45627530e-01, 5.54372470e-01],\n",
              "       [5.19243739e-02, 9.48075626e-01],\n",
              "       [9.50055732e-01, 4.99442684e-02],\n",
              "       [9.46687974e-01, 5.33120263e-02],\n",
              "       [8.15023633e-02, 9.18497637e-01],\n",
              "       [7.73708114e-01, 2.26291886e-01],\n",
              "       [7.80622155e-02, 9.21937785e-01],\n",
              "       [1.63229828e-02, 9.83677017e-01],\n",
              "       [8.15714005e-01, 1.84285995e-01],\n",
              "       [9.98598301e-01, 1.40169892e-03],\n",
              "       [6.58757720e-02, 9.34124228e-01],\n",
              "       [5.12361147e-01, 4.87638853e-01],\n",
              "       [4.63274326e-02, 9.53672567e-01],\n",
              "       [8.70327463e-01, 1.29672537e-01],\n",
              "       [5.20894481e-02, 9.47910552e-01],\n",
              "       [1.41227769e-01, 8.58772231e-01],\n",
              "       [9.13347577e-01, 8.66524226e-02],\n",
              "       [8.30476868e-02, 9.16952313e-01],\n",
              "       [2.44840324e-01, 7.55159676e-01],\n",
              "       [2.35949563e-02, 9.76405044e-01],\n",
              "       [7.73636848e-01, 2.26363152e-01],\n",
              "       [2.79385660e-02, 9.72061434e-01],\n",
              "       [7.39090108e-01, 2.60909892e-01],\n",
              "       [4.19074441e-02, 9.58092556e-01],\n",
              "       [2.75096916e-01, 7.24903084e-01],\n",
              "       [2.49950732e-02, 9.75004927e-01],\n",
              "       [3.09044107e-01, 6.90955893e-01],\n",
              "       [9.27335715e-01, 7.26642846e-02],\n",
              "       [4.07292400e-01, 5.92707600e-01],\n",
              "       [3.54655832e-01, 6.45344168e-01],\n",
              "       [2.86398343e-01, 7.13601657e-01],\n",
              "       [4.92381197e-02, 9.50761880e-01],\n",
              "       [3.59877172e-02, 9.64012283e-01],\n",
              "       [9.69286869e-01, 3.07131306e-02],\n",
              "       [9.13972650e-01, 8.60273504e-02],\n",
              "       [5.65880469e-01, 4.34119531e-01],\n",
              "       [6.93832392e-01, 3.06167608e-01],\n",
              "       [8.25838602e-01, 1.74161398e-01],\n",
              "       [5.52040095e-01, 4.47959905e-01],\n",
              "       [3.49760204e-01, 6.50239796e-01],\n",
              "       [6.84848181e-01, 3.15151819e-01],\n",
              "       [6.51251122e-02, 9.34874888e-01],\n",
              "       [3.26072778e-01, 6.73927222e-01],\n",
              "       [1.32515949e-01, 8.67484051e-01],\n",
              "       [9.85621205e-01, 1.43787947e-02],\n",
              "       [5.96146087e-01, 4.03853913e-01],\n",
              "       [9.06283064e-01, 9.37169364e-02],\n",
              "       [9.66769845e-01, 3.32301547e-02],\n",
              "       [5.07278541e-03, 9.94927215e-01],\n",
              "       [7.64210714e-01, 2.35789286e-01],\n",
              "       [7.14390087e-02, 9.28560991e-01],\n",
              "       [9.81299241e-01, 1.87007594e-02],\n",
              "       [9.45325963e-02, 9.05467404e-01],\n",
              "       [9.61746080e-01, 3.82539197e-02],\n",
              "       [6.81926208e-02, 9.31807379e-01],\n",
              "       [9.93385669e-01, 6.61433067e-03],\n",
              "       [2.81517083e-02, 9.71848292e-01],\n",
              "       [5.25250414e-01, 4.74749586e-01],\n",
              "       [3.55670610e-01, 6.44329390e-01],\n",
              "       [6.49351719e-02, 9.35064828e-01],\n",
              "       [1.26376251e-01, 8.73623749e-01],\n",
              "       [8.61360498e-02, 9.13863950e-01],\n",
              "       [9.92564369e-01, 7.43563089e-03],\n",
              "       [8.53855707e-01, 1.46144293e-01],\n",
              "       [6.43976772e-01, 3.56023228e-01],\n",
              "       [7.47568594e-01, 2.52431406e-01],\n",
              "       [1.51050968e-01, 8.48949032e-01],\n",
              "       [9.41195118e-01, 5.88048822e-02]])"
            ]
          },
          "metadata": {},
          "execution_count": 190
        }
      ]
    },
    {
      "cell_type": "code",
      "metadata": {
        "id": "bB5MM6OPgkkQ",
        "outputId": "e4cc3c2c-79a4-433b-f441-8dd91ee77163",
        "colab": {
          "base_uri": "https://localhost:8080/"
        }
      },
      "source": [
        "y_pred=svc_classifier.predict(x_test)\n",
        "print(y_pred)"
      ],
      "execution_count": null,
      "outputs": [
        {
          "output_type": "stream",
          "name": "stdout",
          "text": [
            "[1 1 1 0 0 0 0 1 0 1 0 1 1 0 0 1 1 1 1 0 0 0 1 1]\n"
          ]
        }
      ]
    },
    {
      "cell_type": "code",
      "metadata": {
        "id": "R2o9gYZWgpwI",
        "outputId": "cbe2aa0c-3d80-440c-a546-6f86a0cf1094",
        "colab": {
          "base_uri": "https://localhost:8080/"
        }
      },
      "source": [
        "print(\"\\naccuracy score:%f\"%(accuracy_score(y_test,y_pred)))\n",
        "print(\"recall score:%f\"%(recall_score(y_test,y_pred)))\n",
        "print(\"roc score:%f\"%(roc_auc_score(y_test,y_pred)))\n",
        "print(confusion_matrix(y_test,y_pred))"
      ],
      "execution_count": null,
      "outputs": [
        {
          "output_type": "stream",
          "name": "stdout",
          "text": [
            "\n",
            "accuracy score:0.875000\n",
            "recall score:1.000000\n",
            "roc score:0.892857\n",
            "[[11  3]\n",
            " [ 0 10]]\n"
          ]
        }
      ]
    },
    {
      "cell_type": "markdown",
      "metadata": {
        "id": "GDKO6U1kgxMQ"
      },
      "source": [
        "#### Now Lets Use Decision Trees"
      ]
    },
    {
      "cell_type": "code",
      "metadata": {
        "id": "2a6SQTDBgt2J",
        "outputId": "aee3febf-34e0-46f1-b3f6-22414a6017eb",
        "colab": {
          "base_uri": "https://localhost:8080/"
        }
      },
      "source": [
        "dtc_clf=DecisionTreeClassifier()\n",
        "dtc_clf.fit(x_train,y_train)\n",
        "dtc_clf_acc=cross_val_score(dtc_clf,x_train_std,y_train,cv=3,scoring=\"accuracy\",n_jobs=-1)\n",
        "dtc_clf_acc"
      ],
      "execution_count": null,
      "outputs": [
        {
          "output_type": "execute_result",
          "data": {
            "text/plain": [
              "array([0.53125   , 0.70967742, 0.4516129 ])"
            ]
          },
          "metadata": {},
          "execution_count": 193
        }
      ]
    },
    {
      "cell_type": "code",
      "metadata": {
        "id": "bVga6QjFg8gJ",
        "outputId": "3c73a894-8b49-44d8-e2b6-0d0298261362",
        "colab": {
          "base_uri": "https://localhost:8080/"
        }
      },
      "source": [
        "y_pred=dtc_clf.predict(x_test)\n",
        "print(y_pred)"
      ],
      "execution_count": null,
      "outputs": [
        {
          "output_type": "stream",
          "name": "stdout",
          "text": [
            "[1 0 1 0 1 1 0 1 0 1 1 0 0 0 1 0 0 1 0 0 0 0 1 1]\n"
          ]
        }
      ]
    },
    {
      "cell_type": "code",
      "metadata": {
        "id": "e9hHW_vUhCC4",
        "outputId": "44c0c577-7481-4066-c6e9-42a26242fcd1",
        "colab": {
          "base_uri": "https://localhost:8080/"
        }
      },
      "source": [
        "print(\"\\naccuracy score:%f\"%(accuracy_score(y_test,y_pred)*100))\n",
        "print(\"recall score:%f\"%(recall_score(y_test,y_pred)*100))\n",
        "print(\"roc score:%f\"%(roc_auc_score(y_test,y_pred)*100))\n",
        "print(confusion_matrix(y_test,y_pred))"
      ],
      "execution_count": null,
      "outputs": [
        {
          "output_type": "stream",
          "name": "stdout",
          "text": [
            "\n",
            "accuracy score:70.833333\n",
            "recall score:70.000000\n",
            "roc score:70.714286\n",
            "[[10  4]\n",
            " [ 3  7]]\n"
          ]
        }
      ]
    },
    {
      "cell_type": "markdown",
      "metadata": {
        "id": "AgnkYYTnhGbZ"
      },
      "source": [
        "#### Now lets use Random Forests"
      ]
    },
    {
      "cell_type": "code",
      "metadata": {
        "id": "LzlJdlpchFpZ",
        "outputId": "06ccc62e-5699-4ac0-9d58-8700d2ab6b24",
        "colab": {
          "base_uri": "https://localhost:8080/",
          "height": 80
        }
      },
      "source": [
        "rmf=RandomForestClassifier(max_depth=3,random_state=0)\n",
        "rmf_clf=rmf.fit(x_train,y_train)\n",
        "rmf_clf"
      ],
      "execution_count": null,
      "outputs": [
        {
          "output_type": "execute_result",
          "data": {
            "text/plain": [
              "RandomForestClassifier(max_depth=3, random_state=0)"
            ],
            "text/html": [
              "<style>#sk-container-id-10 {\n",
              "  /* Definition of color scheme common for light and dark mode */\n",
              "  --sklearn-color-text: #000;\n",
              "  --sklearn-color-text-muted: #666;\n",
              "  --sklearn-color-line: gray;\n",
              "  /* Definition of color scheme for unfitted estimators */\n",
              "  --sklearn-color-unfitted-level-0: #fff5e6;\n",
              "  --sklearn-color-unfitted-level-1: #f6e4d2;\n",
              "  --sklearn-color-unfitted-level-2: #ffe0b3;\n",
              "  --sklearn-color-unfitted-level-3: chocolate;\n",
              "  /* Definition of color scheme for fitted estimators */\n",
              "  --sklearn-color-fitted-level-0: #f0f8ff;\n",
              "  --sklearn-color-fitted-level-1: #d4ebff;\n",
              "  --sklearn-color-fitted-level-2: #b3dbfd;\n",
              "  --sklearn-color-fitted-level-3: cornflowerblue;\n",
              "\n",
              "  /* Specific color for light theme */\n",
              "  --sklearn-color-text-on-default-background: var(--sg-text-color, var(--theme-code-foreground, var(--jp-content-font-color1, black)));\n",
              "  --sklearn-color-background: var(--sg-background-color, var(--theme-background, var(--jp-layout-color0, white)));\n",
              "  --sklearn-color-border-box: var(--sg-text-color, var(--theme-code-foreground, var(--jp-content-font-color1, black)));\n",
              "  --sklearn-color-icon: #696969;\n",
              "\n",
              "  @media (prefers-color-scheme: dark) {\n",
              "    /* Redefinition of color scheme for dark theme */\n",
              "    --sklearn-color-text-on-default-background: var(--sg-text-color, var(--theme-code-foreground, var(--jp-content-font-color1, white)));\n",
              "    --sklearn-color-background: var(--sg-background-color, var(--theme-background, var(--jp-layout-color0, #111)));\n",
              "    --sklearn-color-border-box: var(--sg-text-color, var(--theme-code-foreground, var(--jp-content-font-color1, white)));\n",
              "    --sklearn-color-icon: #878787;\n",
              "  }\n",
              "}\n",
              "\n",
              "#sk-container-id-10 {\n",
              "  color: var(--sklearn-color-text);\n",
              "}\n",
              "\n",
              "#sk-container-id-10 pre {\n",
              "  padding: 0;\n",
              "}\n",
              "\n",
              "#sk-container-id-10 input.sk-hidden--visually {\n",
              "  border: 0;\n",
              "  clip: rect(1px 1px 1px 1px);\n",
              "  clip: rect(1px, 1px, 1px, 1px);\n",
              "  height: 1px;\n",
              "  margin: -1px;\n",
              "  overflow: hidden;\n",
              "  padding: 0;\n",
              "  position: absolute;\n",
              "  width: 1px;\n",
              "}\n",
              "\n",
              "#sk-container-id-10 div.sk-dashed-wrapped {\n",
              "  border: 1px dashed var(--sklearn-color-line);\n",
              "  margin: 0 0.4em 0.5em 0.4em;\n",
              "  box-sizing: border-box;\n",
              "  padding-bottom: 0.4em;\n",
              "  background-color: var(--sklearn-color-background);\n",
              "}\n",
              "\n",
              "#sk-container-id-10 div.sk-container {\n",
              "  /* jupyter's `normalize.less` sets `[hidden] { display: none; }`\n",
              "     but bootstrap.min.css set `[hidden] { display: none !important; }`\n",
              "     so we also need the `!important` here to be able to override the\n",
              "     default hidden behavior on the sphinx rendered scikit-learn.org.\n",
              "     See: https://github.com/scikit-learn/scikit-learn/issues/21755 */\n",
              "  display: inline-block !important;\n",
              "  position: relative;\n",
              "}\n",
              "\n",
              "#sk-container-id-10 div.sk-text-repr-fallback {\n",
              "  display: none;\n",
              "}\n",
              "\n",
              "div.sk-parallel-item,\n",
              "div.sk-serial,\n",
              "div.sk-item {\n",
              "  /* draw centered vertical line to link estimators */\n",
              "  background-image: linear-gradient(var(--sklearn-color-text-on-default-background), var(--sklearn-color-text-on-default-background));\n",
              "  background-size: 2px 100%;\n",
              "  background-repeat: no-repeat;\n",
              "  background-position: center center;\n",
              "}\n",
              "\n",
              "/* Parallel-specific style estimator block */\n",
              "\n",
              "#sk-container-id-10 div.sk-parallel-item::after {\n",
              "  content: \"\";\n",
              "  width: 100%;\n",
              "  border-bottom: 2px solid var(--sklearn-color-text-on-default-background);\n",
              "  flex-grow: 1;\n",
              "}\n",
              "\n",
              "#sk-container-id-10 div.sk-parallel {\n",
              "  display: flex;\n",
              "  align-items: stretch;\n",
              "  justify-content: center;\n",
              "  background-color: var(--sklearn-color-background);\n",
              "  position: relative;\n",
              "}\n",
              "\n",
              "#sk-container-id-10 div.sk-parallel-item {\n",
              "  display: flex;\n",
              "  flex-direction: column;\n",
              "}\n",
              "\n",
              "#sk-container-id-10 div.sk-parallel-item:first-child::after {\n",
              "  align-self: flex-end;\n",
              "  width: 50%;\n",
              "}\n",
              "\n",
              "#sk-container-id-10 div.sk-parallel-item:last-child::after {\n",
              "  align-self: flex-start;\n",
              "  width: 50%;\n",
              "}\n",
              "\n",
              "#sk-container-id-10 div.sk-parallel-item:only-child::after {\n",
              "  width: 0;\n",
              "}\n",
              "\n",
              "/* Serial-specific style estimator block */\n",
              "\n",
              "#sk-container-id-10 div.sk-serial {\n",
              "  display: flex;\n",
              "  flex-direction: column;\n",
              "  align-items: center;\n",
              "  background-color: var(--sklearn-color-background);\n",
              "  padding-right: 1em;\n",
              "  padding-left: 1em;\n",
              "}\n",
              "\n",
              "\n",
              "/* Toggleable style: style used for estimator/Pipeline/ColumnTransformer box that is\n",
              "clickable and can be expanded/collapsed.\n",
              "- Pipeline and ColumnTransformer use this feature and define the default style\n",
              "- Estimators will overwrite some part of the style using the `sk-estimator` class\n",
              "*/\n",
              "\n",
              "/* Pipeline and ColumnTransformer style (default) */\n",
              "\n",
              "#sk-container-id-10 div.sk-toggleable {\n",
              "  /* Default theme specific background. It is overwritten whether we have a\n",
              "  specific estimator or a Pipeline/ColumnTransformer */\n",
              "  background-color: var(--sklearn-color-background);\n",
              "}\n",
              "\n",
              "/* Toggleable label */\n",
              "#sk-container-id-10 label.sk-toggleable__label {\n",
              "  cursor: pointer;\n",
              "  display: flex;\n",
              "  width: 100%;\n",
              "  margin-bottom: 0;\n",
              "  padding: 0.5em;\n",
              "  box-sizing: border-box;\n",
              "  text-align: center;\n",
              "  align-items: start;\n",
              "  justify-content: space-between;\n",
              "  gap: 0.5em;\n",
              "}\n",
              "\n",
              "#sk-container-id-10 label.sk-toggleable__label .caption {\n",
              "  font-size: 0.6rem;\n",
              "  font-weight: lighter;\n",
              "  color: var(--sklearn-color-text-muted);\n",
              "}\n",
              "\n",
              "#sk-container-id-10 label.sk-toggleable__label-arrow:before {\n",
              "  /* Arrow on the left of the label */\n",
              "  content: \"▸\";\n",
              "  float: left;\n",
              "  margin-right: 0.25em;\n",
              "  color: var(--sklearn-color-icon);\n",
              "}\n",
              "\n",
              "#sk-container-id-10 label.sk-toggleable__label-arrow:hover:before {\n",
              "  color: var(--sklearn-color-text);\n",
              "}\n",
              "\n",
              "/* Toggleable content - dropdown */\n",
              "\n",
              "#sk-container-id-10 div.sk-toggleable__content {\n",
              "  max-height: 0;\n",
              "  max-width: 0;\n",
              "  overflow: hidden;\n",
              "  text-align: left;\n",
              "  /* unfitted */\n",
              "  background-color: var(--sklearn-color-unfitted-level-0);\n",
              "}\n",
              "\n",
              "#sk-container-id-10 div.sk-toggleable__content.fitted {\n",
              "  /* fitted */\n",
              "  background-color: var(--sklearn-color-fitted-level-0);\n",
              "}\n",
              "\n",
              "#sk-container-id-10 div.sk-toggleable__content pre {\n",
              "  margin: 0.2em;\n",
              "  border-radius: 0.25em;\n",
              "  color: var(--sklearn-color-text);\n",
              "  /* unfitted */\n",
              "  background-color: var(--sklearn-color-unfitted-level-0);\n",
              "}\n",
              "\n",
              "#sk-container-id-10 div.sk-toggleable__content.fitted pre {\n",
              "  /* unfitted */\n",
              "  background-color: var(--sklearn-color-fitted-level-0);\n",
              "}\n",
              "\n",
              "#sk-container-id-10 input.sk-toggleable__control:checked~div.sk-toggleable__content {\n",
              "  /* Expand drop-down */\n",
              "  max-height: 200px;\n",
              "  max-width: 100%;\n",
              "  overflow: auto;\n",
              "}\n",
              "\n",
              "#sk-container-id-10 input.sk-toggleable__control:checked~label.sk-toggleable__label-arrow:before {\n",
              "  content: \"▾\";\n",
              "}\n",
              "\n",
              "/* Pipeline/ColumnTransformer-specific style */\n",
              "\n",
              "#sk-container-id-10 div.sk-label input.sk-toggleable__control:checked~label.sk-toggleable__label {\n",
              "  color: var(--sklearn-color-text);\n",
              "  background-color: var(--sklearn-color-unfitted-level-2);\n",
              "}\n",
              "\n",
              "#sk-container-id-10 div.sk-label.fitted input.sk-toggleable__control:checked~label.sk-toggleable__label {\n",
              "  background-color: var(--sklearn-color-fitted-level-2);\n",
              "}\n",
              "\n",
              "/* Estimator-specific style */\n",
              "\n",
              "/* Colorize estimator box */\n",
              "#sk-container-id-10 div.sk-estimator input.sk-toggleable__control:checked~label.sk-toggleable__label {\n",
              "  /* unfitted */\n",
              "  background-color: var(--sklearn-color-unfitted-level-2);\n",
              "}\n",
              "\n",
              "#sk-container-id-10 div.sk-estimator.fitted input.sk-toggleable__control:checked~label.sk-toggleable__label {\n",
              "  /* fitted */\n",
              "  background-color: var(--sklearn-color-fitted-level-2);\n",
              "}\n",
              "\n",
              "#sk-container-id-10 div.sk-label label.sk-toggleable__label,\n",
              "#sk-container-id-10 div.sk-label label {\n",
              "  /* The background is the default theme color */\n",
              "  color: var(--sklearn-color-text-on-default-background);\n",
              "}\n",
              "\n",
              "/* On hover, darken the color of the background */\n",
              "#sk-container-id-10 div.sk-label:hover label.sk-toggleable__label {\n",
              "  color: var(--sklearn-color-text);\n",
              "  background-color: var(--sklearn-color-unfitted-level-2);\n",
              "}\n",
              "\n",
              "/* Label box, darken color on hover, fitted */\n",
              "#sk-container-id-10 div.sk-label.fitted:hover label.sk-toggleable__label.fitted {\n",
              "  color: var(--sklearn-color-text);\n",
              "  background-color: var(--sklearn-color-fitted-level-2);\n",
              "}\n",
              "\n",
              "/* Estimator label */\n",
              "\n",
              "#sk-container-id-10 div.sk-label label {\n",
              "  font-family: monospace;\n",
              "  font-weight: bold;\n",
              "  display: inline-block;\n",
              "  line-height: 1.2em;\n",
              "}\n",
              "\n",
              "#sk-container-id-10 div.sk-label-container {\n",
              "  text-align: center;\n",
              "}\n",
              "\n",
              "/* Estimator-specific */\n",
              "#sk-container-id-10 div.sk-estimator {\n",
              "  font-family: monospace;\n",
              "  border: 1px dotted var(--sklearn-color-border-box);\n",
              "  border-radius: 0.25em;\n",
              "  box-sizing: border-box;\n",
              "  margin-bottom: 0.5em;\n",
              "  /* unfitted */\n",
              "  background-color: var(--sklearn-color-unfitted-level-0);\n",
              "}\n",
              "\n",
              "#sk-container-id-10 div.sk-estimator.fitted {\n",
              "  /* fitted */\n",
              "  background-color: var(--sklearn-color-fitted-level-0);\n",
              "}\n",
              "\n",
              "/* on hover */\n",
              "#sk-container-id-10 div.sk-estimator:hover {\n",
              "  /* unfitted */\n",
              "  background-color: var(--sklearn-color-unfitted-level-2);\n",
              "}\n",
              "\n",
              "#sk-container-id-10 div.sk-estimator.fitted:hover {\n",
              "  /* fitted */\n",
              "  background-color: var(--sklearn-color-fitted-level-2);\n",
              "}\n",
              "\n",
              "/* Specification for estimator info (e.g. \"i\" and \"?\") */\n",
              "\n",
              "/* Common style for \"i\" and \"?\" */\n",
              "\n",
              ".sk-estimator-doc-link,\n",
              "a:link.sk-estimator-doc-link,\n",
              "a:visited.sk-estimator-doc-link {\n",
              "  float: right;\n",
              "  font-size: smaller;\n",
              "  line-height: 1em;\n",
              "  font-family: monospace;\n",
              "  background-color: var(--sklearn-color-background);\n",
              "  border-radius: 1em;\n",
              "  height: 1em;\n",
              "  width: 1em;\n",
              "  text-decoration: none !important;\n",
              "  margin-left: 0.5em;\n",
              "  text-align: center;\n",
              "  /* unfitted */\n",
              "  border: var(--sklearn-color-unfitted-level-1) 1pt solid;\n",
              "  color: var(--sklearn-color-unfitted-level-1);\n",
              "}\n",
              "\n",
              ".sk-estimator-doc-link.fitted,\n",
              "a:link.sk-estimator-doc-link.fitted,\n",
              "a:visited.sk-estimator-doc-link.fitted {\n",
              "  /* fitted */\n",
              "  border: var(--sklearn-color-fitted-level-1) 1pt solid;\n",
              "  color: var(--sklearn-color-fitted-level-1);\n",
              "}\n",
              "\n",
              "/* On hover */\n",
              "div.sk-estimator:hover .sk-estimator-doc-link:hover,\n",
              ".sk-estimator-doc-link:hover,\n",
              "div.sk-label-container:hover .sk-estimator-doc-link:hover,\n",
              ".sk-estimator-doc-link:hover {\n",
              "  /* unfitted */\n",
              "  background-color: var(--sklearn-color-unfitted-level-3);\n",
              "  color: var(--sklearn-color-background);\n",
              "  text-decoration: none;\n",
              "}\n",
              "\n",
              "div.sk-estimator.fitted:hover .sk-estimator-doc-link.fitted:hover,\n",
              ".sk-estimator-doc-link.fitted:hover,\n",
              "div.sk-label-container:hover .sk-estimator-doc-link.fitted:hover,\n",
              ".sk-estimator-doc-link.fitted:hover {\n",
              "  /* fitted */\n",
              "  background-color: var(--sklearn-color-fitted-level-3);\n",
              "  color: var(--sklearn-color-background);\n",
              "  text-decoration: none;\n",
              "}\n",
              "\n",
              "/* Span, style for the box shown on hovering the info icon */\n",
              ".sk-estimator-doc-link span {\n",
              "  display: none;\n",
              "  z-index: 9999;\n",
              "  position: relative;\n",
              "  font-weight: normal;\n",
              "  right: .2ex;\n",
              "  padding: .5ex;\n",
              "  margin: .5ex;\n",
              "  width: min-content;\n",
              "  min-width: 20ex;\n",
              "  max-width: 50ex;\n",
              "  color: var(--sklearn-color-text);\n",
              "  box-shadow: 2pt 2pt 4pt #999;\n",
              "  /* unfitted */\n",
              "  background: var(--sklearn-color-unfitted-level-0);\n",
              "  border: .5pt solid var(--sklearn-color-unfitted-level-3);\n",
              "}\n",
              "\n",
              ".sk-estimator-doc-link.fitted span {\n",
              "  /* fitted */\n",
              "  background: var(--sklearn-color-fitted-level-0);\n",
              "  border: var(--sklearn-color-fitted-level-3);\n",
              "}\n",
              "\n",
              ".sk-estimator-doc-link:hover span {\n",
              "  display: block;\n",
              "}\n",
              "\n",
              "/* \"?\"-specific style due to the `<a>` HTML tag */\n",
              "\n",
              "#sk-container-id-10 a.estimator_doc_link {\n",
              "  float: right;\n",
              "  font-size: 1rem;\n",
              "  line-height: 1em;\n",
              "  font-family: monospace;\n",
              "  background-color: var(--sklearn-color-background);\n",
              "  border-radius: 1rem;\n",
              "  height: 1rem;\n",
              "  width: 1rem;\n",
              "  text-decoration: none;\n",
              "  /* unfitted */\n",
              "  color: var(--sklearn-color-unfitted-level-1);\n",
              "  border: var(--sklearn-color-unfitted-level-1) 1pt solid;\n",
              "}\n",
              "\n",
              "#sk-container-id-10 a.estimator_doc_link.fitted {\n",
              "  /* fitted */\n",
              "  border: var(--sklearn-color-fitted-level-1) 1pt solid;\n",
              "  color: var(--sklearn-color-fitted-level-1);\n",
              "}\n",
              "\n",
              "/* On hover */\n",
              "#sk-container-id-10 a.estimator_doc_link:hover {\n",
              "  /* unfitted */\n",
              "  background-color: var(--sklearn-color-unfitted-level-3);\n",
              "  color: var(--sklearn-color-background);\n",
              "  text-decoration: none;\n",
              "}\n",
              "\n",
              "#sk-container-id-10 a.estimator_doc_link.fitted:hover {\n",
              "  /* fitted */\n",
              "  background-color: var(--sklearn-color-fitted-level-3);\n",
              "}\n",
              "</style><div id=\"sk-container-id-10\" class=\"sk-top-container\"><div class=\"sk-text-repr-fallback\"><pre>RandomForestClassifier(max_depth=3, random_state=0)</pre><b>In a Jupyter environment, please rerun this cell to show the HTML representation or trust the notebook. <br />On GitHub, the HTML representation is unable to render, please try loading this page with nbviewer.org.</b></div><div class=\"sk-container\" hidden><div class=\"sk-item\"><div class=\"sk-estimator fitted sk-toggleable\"><input class=\"sk-toggleable__control sk-hidden--visually\" id=\"sk-estimator-id-10\" type=\"checkbox\" checked><label for=\"sk-estimator-id-10\" class=\"sk-toggleable__label fitted sk-toggleable__label-arrow\"><div><div>RandomForestClassifier</div></div><div><a class=\"sk-estimator-doc-link fitted\" rel=\"noreferrer\" target=\"_blank\" href=\"https://scikit-learn.org/1.6/modules/generated/sklearn.ensemble.RandomForestClassifier.html\">?<span>Documentation for RandomForestClassifier</span></a><span class=\"sk-estimator-doc-link fitted\">i<span>Fitted</span></span></div></label><div class=\"sk-toggleable__content fitted\"><pre>RandomForestClassifier(max_depth=3, random_state=0)</pre></div> </div></div></div></div>"
            ]
          },
          "metadata": {},
          "execution_count": 196
        }
      ]
    },
    {
      "cell_type": "code",
      "metadata": {
        "id": "eXHRW9TZhLoU",
        "outputId": "2c4b8ab0-07ec-461a-acc1-5a64438dc8b3",
        "colab": {
          "base_uri": "https://localhost:8080/"
        }
      },
      "source": [
        "rmf_acc=cross_val_score(rmf_clf,x_train_std,y_train,cv=3,scoring=\"accuracy\",n_jobs=-1)\n",
        "print(rmf_acc)"
      ],
      "execution_count": null,
      "outputs": [
        {
          "output_type": "stream",
          "name": "stdout",
          "text": [
            "[0.90625    0.74193548 0.77419355]\n"
          ]
        }
      ]
    },
    {
      "cell_type": "code",
      "metadata": {
        "id": "PaGScmghho8w",
        "outputId": "d340d7eb-13be-4a0d-f3f1-acab89999114",
        "colab": {
          "base_uri": "https://localhost:8080/"
        }
      },
      "source": [
        "rmf_proba=cross_val_predict(rmf_clf,x_train_std,y_train,cv=3,method='predict_proba')\n",
        "print(rmf_proba)"
      ],
      "execution_count": null,
      "outputs": [
        {
          "output_type": "stream",
          "name": "stdout",
          "text": [
            "[[0.80470499 0.19529501]\n",
            " [0.50535619 0.49464381]\n",
            " [0.56855168 0.43144832]\n",
            " [0.41388691 0.58611309]\n",
            " [0.11074302 0.88925698]\n",
            " [0.68834299 0.31165701]\n",
            " [0.32026855 0.67973145]\n",
            " [0.4307658  0.5692342 ]\n",
            " [0.62147943 0.37852057]\n",
            " [0.21324562 0.78675438]\n",
            " [0.44160507 0.55839493]\n",
            " [0.51156392 0.48843608]\n",
            " [0.64301579 0.35698421]\n",
            " [0.68036421 0.31963579]\n",
            " [0.47481252 0.52518748]\n",
            " [0.62074088 0.37925912]\n",
            " [0.35611439 0.64388561]\n",
            " [0.31273703 0.68726297]\n",
            " [0.79239273 0.20760727]\n",
            " [0.65308159 0.34691841]\n",
            " [0.46720454 0.53279546]\n",
            " [0.54018452 0.45981548]\n",
            " [0.42902069 0.57097931]\n",
            " [0.29811445 0.70188555]\n",
            " [0.47599615 0.52400385]\n",
            " [0.47310201 0.52689799]\n",
            " [0.76675483 0.23324517]\n",
            " [0.3146732  0.6853268 ]\n",
            " [0.64155358 0.35844642]\n",
            " [0.41408311 0.58591689]\n",
            " [0.40381195 0.59618805]\n",
            " [0.47379571 0.52620429]\n",
            " [0.42342892 0.57657108]\n",
            " [0.22121728 0.77878272]\n",
            " [0.57845734 0.42154266]\n",
            " [0.78465547 0.21534453]\n",
            " [0.44146938 0.55853062]\n",
            " [0.39981093 0.60018907]\n",
            " [0.22573223 0.77426777]\n",
            " [0.54937845 0.45062155]\n",
            " [0.42543861 0.57456139]\n",
            " [0.4993238  0.5006762 ]\n",
            " [0.62062007 0.37937993]\n",
            " [0.26617535 0.73382465]\n",
            " [0.57578813 0.42421187]\n",
            " [0.41453403 0.58546597]\n",
            " [0.48285317 0.51714683]\n",
            " [0.29623826 0.70376174]\n",
            " [0.57761257 0.42238743]\n",
            " [0.44889777 0.55110223]\n",
            " [0.48333258 0.51666742]\n",
            " [0.29971601 0.70028399]\n",
            " [0.5277473  0.4722527 ]\n",
            " [0.67777564 0.32222436]\n",
            " [0.42449427 0.57550573]\n",
            " [0.41375519 0.58624481]\n",
            " [0.35382513 0.64617487]\n",
            " [0.27467607 0.72532393]\n",
            " [0.14226261 0.85773739]\n",
            " [0.53824492 0.46175508]\n",
            " [0.60060505 0.39939495]\n",
            " [0.36699792 0.63300208]\n",
            " [0.55588643 0.44411357]\n",
            " [0.62498402 0.37501598]\n",
            " [0.51539931 0.48460069]\n",
            " [0.27742942 0.72257058]\n",
            " [0.49893337 0.50106663]\n",
            " [0.52418237 0.47581763]\n",
            " [0.50829332 0.49170668]\n",
            " [0.36001912 0.63998088]\n",
            " [0.73145976 0.26854024]\n",
            " [0.48356778 0.51643222]\n",
            " [0.44676518 0.55323482]\n",
            " [0.70614604 0.29385396]\n",
            " [0.16421002 0.83578998]\n",
            " [0.38425867 0.61574133]\n",
            " [0.36167417 0.63832583]\n",
            " [0.68170182 0.31829818]\n",
            " [0.28558095 0.71441905]\n",
            " [0.55368321 0.44631679]\n",
            " [0.42094215 0.57905785]\n",
            " [0.77606033 0.22393967]\n",
            " [0.33074455 0.66925545]\n",
            " [0.63126405 0.36873595]\n",
            " [0.29100357 0.70899643]\n",
            " [0.44465181 0.55534819]\n",
            " [0.60015544 0.39984456]\n",
            " [0.34812532 0.65187468]\n",
            " [0.62834613 0.37165387]\n",
            " [0.57112466 0.42887534]\n",
            " [0.5476676  0.4523324 ]\n",
            " [0.42888357 0.57111643]\n",
            " [0.27611492 0.72388508]\n",
            " [0.53340335 0.46659665]]\n"
          ]
        }
      ]
    },
    {
      "cell_type": "code",
      "metadata": {
        "id": "LiTaTvHUhsaI",
        "outputId": "49a61247-d881-4ae6-a96b-50a9b2588c37",
        "colab": {
          "base_uri": "https://localhost:8080/"
        }
      },
      "source": [
        "print(\"\\naccuracy score:%f\"%(accuracy_score(y_test,y_pred)*100))\n",
        "print(\"recall score:%f\"%(recall_score(y_test,y_pred)*100))\n",
        "print(\"roc score:%f\"%(roc_auc_score(y_test,y_pred)*100))\n",
        "print(confusion_matrix(y_test,y_pred))"
      ],
      "execution_count": null,
      "outputs": [
        {
          "output_type": "stream",
          "name": "stdout",
          "text": [
            "\n",
            "accuracy score:70.833333\n",
            "recall score:70.000000\n",
            "roc score:70.714286\n",
            "[[10  4]\n",
            " [ 3  7]]\n"
          ]
        }
      ]
    },
    {
      "cell_type": "markdown",
      "metadata": {
        "id": "bGn4ISpdiLHT"
      },
      "source": [
        "#### Comparing our results"
      ]
    },
    {
      "cell_type": "code",
      "metadata": {
        "id": "Msy7P0bjh-WR",
        "outputId": "a611d576-2e7a-417b-a450-4a443dc1e590",
        "colab": {
          "base_uri": "https://localhost:8080/"
        }
      },
      "source": [
        "models = []\n",
        "models.append(('KNN', KNeighborsClassifier()))\n",
        "models.append(('LR', LogisticRegression()))\n",
        "models.append(('SVC', SVC()))\n",
        "models.append(('DT', DecisionTreeClassifier()))\n",
        "models.append(('RF', RandomForestClassifier()))\n",
        "names = []\n",
        "scores = []\n",
        "for name, model in models:\n",
        "    model.fit(x_train, y_train)\n",
        "    y_pred = model.predict(x_test)\n",
        "    scores.append(accuracy_score(y_test, y_pred))\n",
        "    names.append(name)\n",
        "tr_split = pd.DataFrame({'Name': names, 'Score': scores})\n",
        "print(tr_split)"
      ],
      "execution_count": null,
      "outputs": [
        {
          "output_type": "stream",
          "name": "stderr",
          "text": [
            "/usr/local/lib/python3.10/dist-packages/sklearn/linear_model/_logistic.py:465: ConvergenceWarning: lbfgs failed to converge (status=1):\n",
            "STOP: TOTAL NO. of ITERATIONS REACHED LIMIT.\n",
            "\n",
            "Increase the number of iterations (max_iter) or scale the data as shown in:\n",
            "    https://scikit-learn.org/stable/modules/preprocessing.html\n",
            "Please also refer to the documentation for alternative solver options:\n",
            "    https://scikit-learn.org/stable/modules/linear_model.html#logistic-regression\n",
            "  n_iter_i = _check_optimize_result(\n"
          ]
        },
        {
          "output_type": "stream",
          "name": "stdout",
          "text": [
            "  Name     Score\n",
            "0  KNN  0.958333\n",
            "1   LR  0.916667\n",
            "2  SVC  0.875000\n",
            "3   DT  0.708333\n",
            "4   RF  0.750000\n"
          ]
        }
      ]
    },
    {
      "cell_type": "code",
      "metadata": {
        "id": "WT6ae8doiN-l",
        "outputId": "dc4905f3-2d48-4477-aa9f-f85677369eb9",
        "colab": {
          "base_uri": "https://localhost:8080/",
          "height": 453
        }
      },
      "source": [
        "axis = sns.barplot(x = 'Name', y = 'Score', data =tr_split )\n",
        "axis.set(xlabel='Classifier', ylabel='Accuracy')\n",
        "for p in axis.patches:\n",
        "    height = p.get_height()\n",
        "    axis.text(p.get_x() + p.get_width()/2, height + 0.01, '{:1.4f}'.format(height), ha=\"center\")\n",
        "\n",
        "plt.show()"
      ],
      "execution_count": null,
      "outputs": [
        {
          "output_type": "display_data",
          "data": {
            "text/plain": [
              "<Figure size 640x480 with 1 Axes>"
            ],
            "image/png": "[encoded data removed]"
          },
          "metadata": {}
        }
      ]
    },
    {
      "cell_type": "code",
      "source": [
        "# prompt: Give me a line graph\n",
        "\n",
        "plt.figure(figsize=(10, 6))\n",
        "plt.plot(tr_split['Name'], tr_split['Score'], marker='o', linestyle='-')\n",
        "plt.xlabel(\"Classifier\")\n",
        "plt.ylabel(\"Accuracy\")\n",
        "plt.title(\"Classifier Accuracy Comparison\")\n",
        "plt.grid(True)\n",
        "plt.show()"
      ],
      "metadata": {
        "colab": {
          "base_uri": "https://localhost:8080/",
          "height": 564
        },
        "id": "coxOvyVnA-UL",
        "outputId": "15b366e4-12cd-4d81-ea0f-13108b40dc92"
      },
      "execution_count": null,
      "outputs": [
        {
          "output_type": "display_data",
          "data": {
            "text/plain": [
              "<Figure size 1000x600 with 1 Axes>"
            ],
            "image/png": "[encoded data removed]"
          },
          "metadata": {}
        }
      ]
    },
    {
      "cell_type": "code",
      "source": [
        "# prompt: Give me a confusion matrix  graph on KNN\n",
        "\n",
        "import matplotlib.pyplot as plt\n",
        "import seaborn as sns\n",
        "from sklearn.metrics import confusion_matrix\n",
        "\n",
        "# Assuming y_test and y_predict are already defined from your KNN model\n",
        "cm = confusion_matrix(y_test, y_predict)\n",
        "\n",
        "plt.figure(figsize=(8, 6))\n",
        "sns.heatmap(cm, annot=True, fmt=\"d\", cmap=\"Blues\",\n",
        "            xticklabels=['No Floods', 'Floods'],\n",
        "            yticklabels=['No Floods', 'Floods'])\n",
        "plt.xlabel(\"Predicted\")\n",
        "plt.ylabel(\"Actual\")\n",
        "plt.title(\"Confusion Matrix for KNN\")\n",
        "plt.show()"
      ],
      "metadata": {
        "colab": {
          "base_uri": "https://localhost:8080/",
          "height": 564
        },
        "id": "MQmjX890BHeA",
        "outputId": "552eabc3-2e5e-4386-f182-f2fd523dba8b"
      },
      "execution_count": null,
      "outputs": [
        {
          "output_type": "display_data",
          "data": {
            "text/plain": [
              "<Figure size 800x600 with 2 Axes>"
            ],
            "image/png": "[encoded data removed]"
          },
          "metadata": {}
        }
      ]
    },
    {
      "source": [
        "# prompt: Give me a confusion matrix graph on LR in dark purple\n",
        "\n",
        "import matplotlib.pyplot as plt\n",
        "import seaborn as sns\n",
        "from sklearn.metrics import confusion_matrix\n",
        "\n",
        "# Assuming y_test and y_pred are already defined from your Logistic Regression model\n",
        "cm = confusion_matrix(y_test, y_pred)\n",
        "\n",
        "plt.figure(figsize=(8, 6))\n",
        "sns.heatmap(cm, annot=True, fmt=\"d\", cmap=\"Purples\", # Changed cmap to 'Purples' for a dark purple-like color\n",
        "            xticklabels=['No Floods', 'Floods'],\n",
        "            yticklabels=['No Floods', 'Floods'])\n",
        "plt.xlabel(\"Predicted\")\n",
        "plt.ylabel(\"Actual\")\n",
        "plt.title(\"Confusion Matrix for Logistic Regression\")\n",
        "plt.show()"
      ],
      "cell_type": "code",
      "metadata": {
        "colab": {
          "base_uri": "https://localhost:8080/",
          "height": 564
        },
        "id": "PyGxTwsSH96W",
        "outputId": "80aa8f96-1e57-4df1-c37e-7030b66f0031"
      },
      "execution_count": null,
      "outputs": [
        {
          "output_type": "display_data",
          "data": {
            "text/plain": [
              "<Figure size 800x600 with 2 Axes>"
            ],
            "image/png": "[encoded data removed]"
          },
          "metadata": {}
        }
      ]
    },
    {
      "cell_type": "code",
      "source": [
        "# prompt: Give me a confusion matrix graph on SVC (Keep the color dark as purple or violet)\n",
        "\n",
        "# Assuming y_test and y_pred are already defined from your SVC model\n",
        "cm = confusion_matrix(y_test, y_pred)\n",
        "\n",
        "plt.figure(figsize=(8, 6))\n",
        "sns.heatmap(cm, annot=True, fmt=\"d\", cmap=\"Purples\",  # Changed cmap to Purples\n",
        "            xticklabels=['No Floods', 'Floods'],\n",
        "            yticklabels=['No Floods', 'Floods'])\n",
        "plt.xlabel(\"Predicted\")\n",
        "plt.ylabel(\"Actual\")\n",
        "plt.title(\"Confusion Matrix for SVC\")\n",
        "plt.show()"
      ],
      "metadata": {
        "colab": {
          "base_uri": "https://localhost:8080/",
          "height": 564
        },
        "id": "1-8fEoBjG1kc",
        "outputId": "a4f68ba7-a517-40aa-c574-bbc4e0050b27"
      },
      "execution_count": null,
      "outputs": [
        {
          "output_type": "display_data",
          "data": {
            "text/plain": [
              "<Figure size 800x600 with 2 Axes>"
            ],
            "image/png": "[encoded data removed]"
          },
          "metadata": {}
        }
      ]
    },
    {
      "cell_type": "code",
      "source": [
        "# prompt: Give me a confusion matrix graph on LR (Keep the color dark as purple or violet)\n",
        "\n",
        "# Assuming y_test and y_pred are already defined from your Logistic Regression model\n",
        "cm = confusion_matrix(y_test, y_pred)\n",
        "\n",
        "plt.figure(figsize=(8, 6))\n",
        "sns.heatmap(cm, annot=True, fmt=\"d\", cmap=\"Purples\", # Changed cmap to 'Purples' for a dark purple-like color\n",
        "            xticklabels=['No Floods', 'Floods'],\n",
        "            yticklabels=['No Floods', 'Floods'])\n",
        "plt.xlabel(\"Predicted\")\n",
        "plt.ylabel(\"Actual\")\n",
        "plt.title(\"Confusion Matrix for Logistic Regression\")\n",
        "plt.show()"
      ],
      "metadata": {
        "colab": {
          "base_uri": "https://localhost:8080/",
          "height": 564
        },
        "id": "JVae0fZCIFQC",
        "outputId": "5fae45d3-6c69-428c-c17f-088247d76761"
      },
      "execution_count": null,
      "outputs": [
        {
          "output_type": "display_data",
          "data": {
            "text/plain": [
              "<Figure size 800x600 with 2 Axes>"
            ],
            "image/png": "[encoded data removed]"
          },
          "metadata": {}
        }
      ]
    }
  ]
}